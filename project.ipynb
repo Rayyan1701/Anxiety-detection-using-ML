{
 "cells": [
  {
   "cell_type": "code",
   "execution_count": null,
   "id": "5c24dddb",
   "metadata": {},
   "outputs": [],
   "source": [
    "import numpy as np\n",
    "import pandas as pd\n",
    "import matplotlib.pyplot as plt"
   ]
  },
  {
   "cell_type": "code",
   "execution_count": null,
   "id": "5875df74",
   "metadata": {},
   "outputs": [],
   "source": [
    "dataset = pd.read_csv(\"./DASS_data_21.02.19/data.csv\", sep=r'\\t', engine='python')\n",
    "\n",
    "dataset"
   ]
  },
  {
   "cell_type": "code",
   "execution_count": null,
   "id": "dbbde3a9",
   "metadata": {},
   "outputs": [],
   "source": [
    "print(dataset.columns,\"\\n\\n\")\n",
    "print(dataset.shape,\"\\n\\n\")\n",
    "print(dataset.dtypes,\"\\n\\n\")"
   ]
  },
  {
   "cell_type": "code",
   "execution_count": null,
   "id": "fab2c656",
   "metadata": {},
   "outputs": [],
   "source": [
    "dataset.isnull()"
   ]
  },
  {
   "cell_type": "code",
   "execution_count": null,
   "id": "9ea0bc4a",
   "metadata": {},
   "outputs": [],
   "source": [
    "dataset.isnull().sum()"
   ]
  },
  {
   "cell_type": "code",
   "execution_count": null,
   "id": "5f33cd08",
   "metadata": {},
   "outputs": [],
   "source": [
    "dataset.describe()"
   ]
  },
  {
   "cell_type": "code",
   "execution_count": null,
   "id": "a3b976e6",
   "metadata": {},
   "outputs": [],
   "source": [
    "dataset.info()"
   ]
  },
  {
   "cell_type": "code",
   "execution_count": null,
   "id": "f5c844ca",
   "metadata": {},
   "outputs": [],
   "source": [
    "k=0\n",
    "for i in dataset.columns:    \n",
    "    print(str(k)+\" :\"+i)\n",
    "    k+=1"
   ]
  },
  {
   "cell_type": "code",
   "execution_count": null,
   "id": "f6997b10",
   "metadata": {},
   "outputs": [],
   "source": [
    "#Preprocessing\n",
    "    "
   ]
  },
  {
   "cell_type": "code",
   "execution_count": null,
   "id": "c1233189",
   "metadata": {},
   "outputs": [],
   "source": [
    "x_questions=dataset.iloc[:,:126]\n",
    "x_personal=dataset.iloc[:,157:171]\n",
    "y=dataset.iloc[:,134]\n",
    "\n",
    "\n",
    "print(x_questions.isnull().sum().sum())\n",
    "print(x_personal.isnull().sum().sum())\n",
    "print(y.isnull().sum().sum())"
   ]
  },
  {
   "cell_type": "code",
   "execution_count": null,
   "id": "40f4aca5",
   "metadata": {},
   "outputs": [],
   "source": []
  },
  {
   "cell_type": "code",
   "execution_count": null,
   "id": "061eb033",
   "metadata": {},
   "outputs": [],
   "source": [
    "\n",
    "l=[]\n",
    "for i in range(1,43):\n",
    "    l.append((3*i)-2)\n",
    "   \n",
    "    \n",
    "x_questions.drop(x_questions.columns[l],axis=1,inplace=True)\n",
    "x_questions"
   ]
  },
  {
   "cell_type": "code",
   "execution_count": null,
   "id": "0c4b1d40",
   "metadata": {},
   "outputs": [],
   "source": [
    "x_answer=x_questions.iloc[:,0::2]\n",
    "x_time=x_questions.iloc[:,1::2]\n",
    "x_time=x_time/1000\n",
    "min_t=x_time.min()\n",
    "max_t=x_time.max()\n",
    "\n",
    "range_t=max_t-min_t\n",
    "\n",
    "x_time.describe()"
   ]
  },
  {
   "cell_type": "code",
   "execution_count": null,
   "id": "bf9f5f62",
   "metadata": {},
   "outputs": [],
   "source": [
    "\n",
    "sub_value=((x_time-min_t)/range_t)\n",
    "sub_value.describe()"
   ]
  },
  {
   "cell_type": "code",
   "execution_count": null,
   "id": "7f667475",
   "metadata": {},
   "outputs": [],
   "source": [
    "x_answer=x_answer-sub_value.values"
   ]
  },
  {
   "cell_type": "code",
   "execution_count": null,
   "id": "c71742cc",
   "metadata": {},
   "outputs": [],
   "source": [
    "x_answer"
   ]
  },
  {
   "cell_type": "markdown",
   "id": "3169dd8a",
   "metadata": {},
   "source": []
  },
  {
   "cell_type": "code",
   "execution_count": null,
   "id": "e9f31c13",
   "metadata": {},
   "outputs": [],
   "source": [
    "###Preprocessing x_personal dataframe\n",
    "\n",
    "\n",
    "x_personal"
   ]
  },
  {
   "cell_type": "code",
   "execution_count": null,
   "id": "586047c8",
   "metadata": {},
   "outputs": [],
   "source": [
    "x_personal.drop(['engnat','screensize','uniquenetworklocation','hand'],axis=1,inplace=True)"
   ]
  },
  {
   "cell_type": "code",
   "execution_count": null,
   "id": "ccf484f5",
   "metadata": {},
   "outputs": [],
   "source": [
    "x_personal"
   ]
  },
  {
   "cell_type": "code",
   "execution_count": null,
   "id": "5835ec92",
   "metadata": {},
   "outputs": [],
   "source": [
    "from sklearn.compose import ColumnTransformer\n",
    "from sklearn.preprocessing import OneHotEncoder\n",
    "\n",
    "\n",
    "enc = OneHotEncoder()\n",
    "\n",
    "# 2. FIT\n",
    "enc.fit(x_personal.iloc[:,[1,2,4,5,6]])\n",
    "\n",
    "# 3. Transform\n",
    "onehotlabel = enc.transform(x_personal.iloc[:,[1,2,4,5,6]])\n",
    "\n",
    "onehotlabels.shape"
   ]
  },
  {
   "cell_type": "code",
   "execution_count": null,
   "id": "4120a431",
   "metadata": {},
   "outputs": [],
   "source": [
    "x_personal.drop(x_personal.columns[[1,2,4,5,6]],axis=1,inplace=True)\n",
    "\n",
    "\n",
    "\n",
    "\n",
    "x_personal.describe()\n"
   ]
  },
  {
   "cell_type": "code",
   "execution_count": null,
   "id": "1d411632",
   "metadata": {},
   "outputs": [],
   "source": [
    "x_personal=x_personal[x_personal['age']<100]\n",
    "x_personal=x_personal[x_personal['familysize']<10]\n",
    "x_personal.shape"
   ]
  },
  {
   "cell_type": "code",
   "execution_count": null,
   "id": "8b7599f0",
   "metadata": {},
   "outputs": [],
   "source": [
    "\n",
    "\n",
    "\n",
    "\n",
    "onehotlabels_df=pd.DataFrame(onehotlabels)\n",
    "\n",
    "#pd.concat([x_personal,onehotlabels_df])\n",
    "x_personal=pd.merge(x_personal,onehotlabels_df,left_index=True,right_index=True)\n",
    "x_personal"
   ]
  },
  {
   "cell_type": "code",
   "execution_count": null,
   "id": "17021e74",
   "metadata": {},
   "outputs": [],
   "source": [
    "#MERGING X_personal and x_answers\n",
    "\n",
    "x=pd.merge(x_answer,x_personal,left_index=True,right_index=True)\n",
    "x"
   ]
  },
  {
   "cell_type": "code",
   "execution_count": null,
   "id": "57574cc1",
   "metadata": {},
   "outputs": [],
   "source": [
    "x.describe()"
   ]
  },
  {
   "cell_type": "code",
   "execution_count": null,
   "id": "50c07ca2",
   "metadata": {},
   "outputs": [],
   "source": []
  },
  {
   "cell_type": "code",
   "execution_count": null,
   "id": "eb48b7a8",
   "metadata": {},
   "outputs": [],
   "source": [
    "preprocessed_data=pd.merge(x,y,left_index=True,right_index=True)\n",
    "\n",
    "preprocessed_data"
   ]
  },
  {
   "cell_type": "code",
   "execution_count": null,
   "id": "d91c7088",
   "metadata": {},
   "outputs": [],
   "source": [
    "y.value_counts().plot(kind='pie', autopct='%1.0f%%')"
   ]
  },
  {
   "cell_type": "code",
   "execution_count": null,
   "id": "f555c7d5",
   "metadata": {},
   "outputs": [],
   "source": [
    "x=preprocessed_data.iloc[:,:-1]\n",
    "y=preprocessed_data.iloc[:,-1]\n",
    "\n",
    "x,y"
   ]
  },
  {
   "cell_type": "code",
   "execution_count": null,
   "id": "3e26b41f",
   "metadata": {},
   "outputs": [],
   "source": [
    "y = y.replace([5, 4, 3, 2, 1], 0)\n",
    "y = y.replace([7, 6], 1)"
   ]
  },
  {
   "cell_type": "code",
   "execution_count": null,
   "id": "24c42007",
   "metadata": {},
   "outputs": [],
   "source": [
    "y.describe()"
   ]
  },
  {
   "cell_type": "code",
   "execution_count": null,
   "id": "e6081449",
   "metadata": {},
   "outputs": [],
   "source": [
    "#SPLIT THE DATASET\n",
    "\n",
    "from sklearn.model_selection import train_test_split\n",
    "\n",
    "x_train,x_test,y_train,y_test = train_test_split(x,y,test_size=0.2,random_state=1)"
   ]
  },
  {
   "cell_type": "code",
   "execution_count": null,
   "id": "a60d3413",
   "metadata": {},
   "outputs": [],
   "source": []
  },
  {
   "cell_type": "code",
   "execution_count": null,
   "id": "9cd61d5b",
   "metadata": {},
   "outputs": [],
   "source": [
    "#FEATURE SCALING\n",
    "\n",
    "from sklearn import preprocessing\n",
    "from sklearn.preprocessing import StandardScaler\n",
    "\n",
    "mm_scale=preprocessing.MinMaxScaler(feature_range=(0,1))\n",
    "\n",
    "x_train=mm_scale.fit_transform(x_train)\n",
    "x_test=mm_scale.transform(x_test)\n",
    "\n",
    "\n",
    "len(x_train[0]),len(x_train)"
   ]
  },
  {
   "cell_type": "code",
   "execution_count": null,
   "id": "db5e9d5a",
   "metadata": {},
   "outputs": [],
   "source": [
    "#PCA\n",
    "\n",
    "\n",
    "from sklearn.decomposition import PCA\n",
    "\n",
    "pca1=PCA(0.95)\n",
    "x_pca=pca1.fit_transform(x_train)\n",
    "x_pca_test=pca1.transform(x_test)\n",
    "\n",
    "pca1.n_components_"
   ]
  },
  {
   "cell_type": "code",
   "execution_count": null,
   "id": "a5e2f7f2",
   "metadata": {},
   "outputs": [],
   "source": [
    "print(pca1.explained_variance_ratio_.sum())\n",
    "print(pca1.components_.shape)\n",
    "print(pca1.explained_variance_ratio_)\n"
   ]
  },
  {
   "cell_type": "code",
   "execution_count": null,
   "id": "06400a9f",
   "metadata": {},
   "outputs": [],
   "source": []
  },
  {
   "cell_type": "code",
   "execution_count": null,
   "id": "25220340",
   "metadata": {},
   "outputs": [],
   "source": [
    "x_pca"
   ]
  },
  {
   "cell_type": "code",
   "execution_count": null,
   "id": "e84ab588",
   "metadata": {},
   "outputs": [],
   "source": []
  },
  {
   "cell_type": "code",
   "execution_count": null,
   "id": "055983cb",
   "metadata": {},
   "outputs": [],
   "source": [
    "from sklearn.linear_model import LogisticRegression\n",
    "classifier1 = LogisticRegression(random_state=0)\n",
    "classifier1.fit(x_pca,y_train)\n",
    "\n",
    "y_pred1 = classifier1.predict(x_pca_test)\n",
    "\n",
    "\n",
    "from sklearn.metrics import accuracy_score\n",
    "print(accuracy_score(y_test,y_pred1))\n",
    "\n",
    "from sklearn.metrics import confusion_matrix\n",
    "cm=confusion_matrix(y_test,y_pred1)\n",
    "cm\n"
   ]
  },
  {
   "cell_type": "code",
   "execution_count": null,
   "id": "f420b284",
   "metadata": {},
   "outputs": [],
   "source": [
    "from sklearn.linear_model import SGDClassifier\n",
    "\n",
    "sgd_clf = SGDClassifier(max_iter=20,tol=np.infty)\n",
    "sgd_clf.fit(x_pca,y_train)\n",
    "\n",
    "\n",
    "y_pred = sgd_clf.predict(x_pca_test)\n",
    "\n",
    "\n",
    "from sklearn.metrics import accuracy_score\n",
    "print(accuracy_score(y_test,y_pred))\n",
    "\n",
    "from sklearn.metrics import confusion_matrix\n",
    "cm=confusion_matrix(y_test,y_pred)\n",
    "cm\n"
   ]
  },
  {
   "cell_type": "code",
   "execution_count": null,
   "id": "af6319f2",
   "metadata": {},
   "outputs": [],
   "source": [
    "from sklearn import tree\n",
    "\n",
    "classifier2  = tree.DecisionTreeClassifier()\n",
    "classifier2.fit(x_pca,y_train)\n",
    "\n",
    "predictions = classifier2.predict(x_pca_test)\n",
    "\n",
    "from sklearn.metrics import accuracy_score\n",
    "print(accuracy_score(y_test,predictions))\n",
    "\n",
    "from sklearn.metrics import confusion_matrix\n",
    "\n",
    "\n",
    "cm=confusion_matrix(y_test,predictions)\n",
    "cm"
   ]
  },
  {
   "cell_type": "code",
   "execution_count": null,
   "id": "bc2a3272",
   "metadata": {},
   "outputs": [],
   "source": [
    "from sklearn.ensemble import RandomForestClassifier\n",
    "\n",
    "clf = RandomForestClassifier(max_depth=4, random_state=0)\n",
    "\n",
    "clf.fit(x_pca, y_train)\n",
    "\n",
    "predictions = clf.predict(x_pca_test)\n",
    "\n",
    "from sklearn.metrics import accuracy_score\n",
    "print(accuracy_score(y_test,predictions))\n",
    "\n",
    "from sklearn.metrics import confusion_matrix\n",
    "\n",
    "\n",
    "cm=confusion_matrix(y_test,predictions)\n",
    "cm"
   ]
  },
  {
   "cell_type": "code",
   "execution_count": null,
   "id": "1cb2a83d",
   "metadata": {},
   "outputs": [],
   "source": []
  },
  {
   "cell_type": "code",
   "execution_count": null,
   "id": "cab17055",
   "metadata": {},
   "outputs": [],
   "source": []
  },
  {
   "cell_type": "code",
   "execution_count": null,
   "id": "d119b2e7",
   "metadata": {},
   "outputs": [],
   "source": []
  },
  {
   "cell_type": "code",
   "execution_count": null,
   "id": "fc2a69f1",
   "metadata": {},
   "outputs": [],
   "source": []
  },
  {
   "cell_type": "code",
   "execution_count": null,
   "id": "f6ac25ca",
   "metadata": {},
   "outputs": [],
   "source": []
  },
  {
   "cell_type": "code",
   "execution_count": null,
   "id": "48d72fe9",
   "metadata": {},
   "outputs": [],
   "source": []
  }
 ],
 "metadata": {
  "kernelspec": {
   "display_name": "Python 3",
   "language": "python",
   "name": "python3"
  },
  "language_info": {
   "codemirror_mode": {
    "name": "ipython",
    "version": 3
   },
   "file_extension": ".py",
   "mimetype": "text/x-python",
   "name": "python",
   "nbconvert_exporter": "python",
   "pygments_lexer": "ipython3",
   "version": "3.9.5"
  }
 },
 "nbformat": 4,
 "nbformat_minor": 5
}
